{
 "cells": [
  {
   "cell_type": "markdown",
   "metadata": {},
   "source": [
    "# Python III\n",
    "Workshop at EIJC18/Dataharvest in Mechelen (2018-05-25)"
   ]
  },
  {
   "cell_type": "markdown",
   "metadata": {},
   "source": [
    "## Basics\n",
    "Parts of this chapter might be a repetition. But that's life. And we are moving on pretty fast. "
   ]
  },
  {
   "cell_type": "markdown",
   "metadata": {},
   "source": [
    "### Excercise 1\n",
    "At the beginning, we are doing what programmers always do: We are writing a \"Hello World\" program. You will need two commands: ```print()``` and in the second try also ```input()```."
   ]
  },
  {
   "cell_type": "code",
   "execution_count": 1,
   "metadata": {},
   "outputs": [
    {
     "name": "stdout",
     "output_type": "stream",
     "text": [
      "Hello World\n"
     ]
    }
   ],
   "source": [
    "# Please write a program that prints out \"Hello World\". \n",
    "print('Hello World')"
   ]
  },
  {
   "cell_type": "code",
   "execution_count": 2,
   "metadata": {},
   "outputs": [
    {
     "name": "stdout",
     "output_type": "stream",
     "text": [
      "What's your name: \n",
      "Hello .\n"
     ]
    }
   ],
   "source": [
    "# Make your amazing program even more amazing: Don't greet the whole world, but the specific user. \n",
    "user_name = input('What\\'s your name: ' )\n",
    "\n",
    "print('Hello', user_name + '.')"
   ]
  },
  {
   "cell_type": "markdown",
   "metadata": {},
   "source": [
    "### Data types\n",
    "In the beginning we need to fiddle around with some nasty stuff. At least: It can get pretty nasty, if you mess with these things. Let's fist talk about data types. Normally, you are just using three data types. \n",
    "- str – strings of characters\n",
    "- int – integers\n",
    "- float – floats\n",
    "\n",
    "There are a couple more options. But for now, we are just ignoring them. "
   ]
  },
  {
   "cell_type": "code",
   "execution_count": 3,
   "metadata": {},
   "outputs": [
    {
     "data": {
      "text/plain": [
       "str"
      ]
     },
     "execution_count": 3,
     "metadata": {},
     "output_type": "execute_result"
    }
   ],
   "source": [
    "# Let's check the datatype of the variable that we have set before. \n",
    "type(user_name)"
   ]
  },
  {
   "cell_type": "code",
   "execution_count": 4,
   "metadata": {},
   "outputs": [],
   "source": [
    "# Define a variable containing a integer. Check its type. \n",
    "nicenumber = 987"
   ]
  },
  {
   "cell_type": "code",
   "execution_count": 5,
   "metadata": {},
   "outputs": [],
   "source": [
    "# Define a variable containing a float. Check its type. \n",
    "nicefloat = 4.75"
   ]
  },
  {
   "cell_type": "code",
   "execution_count": 6,
   "metadata": {},
   "outputs": [
    {
     "ename": "ValueError",
     "evalue": "could not convert string to float: ",
     "output_type": "error",
     "traceback": [
      "\u001b[0;31m---------------------------------------------------------------------------\u001b[0m",
      "\u001b[0;31mValueError\u001b[0m                                Traceback (most recent call last)",
      "\u001b[0;32m<ipython-input-6-3da12e14519e>\u001b[0m in \u001b[0;36m<module>\u001b[0;34m()\u001b[0m\n\u001b[1;32m      1\u001b[0m \u001b[0;31m# Try to convert the username to a float.\u001b[0m\u001b[0;34m\u001b[0m\u001b[0;34m\u001b[0m\u001b[0m\n\u001b[0;32m----> 2\u001b[0;31m \u001b[0mfloat\u001b[0m\u001b[0;34m(\u001b[0m\u001b[0muser_name\u001b[0m\u001b[0;34m)\u001b[0m\u001b[0;34m\u001b[0m\u001b[0m\n\u001b[0m",
      "\u001b[0;31mValueError\u001b[0m: could not convert string to float: "
     ]
    }
   ],
   "source": [
    "# Try to convert the username to a float. \n",
    "float(user_name)"
   ]
  },
  {
   "cell_type": "code",
   "execution_count": 7,
   "metadata": {},
   "outputs": [
    {
     "data": {
      "text/plain": [
       "4"
      ]
     },
     "execution_count": 7,
     "metadata": {},
     "output_type": "execute_result"
    }
   ],
   "source": [
    "# Convert the float variable to an integer. \n",
    "int(4.78)"
   ]
  },
  {
   "cell_type": "code",
   "execution_count": 8,
   "metadata": {},
   "outputs": [
    {
     "data": {
      "text/plain": [
       "5"
      ]
     },
     "execution_count": 8,
     "metadata": {},
     "output_type": "execute_result"
    }
   ],
   "source": [
    "# Ups, we expected something different. It might be safer to round up oder down.\n",
    "round(4.78)"
   ]
  },
  {
   "cell_type": "markdown",
   "metadata": {},
   "source": [
    "### Data Structures\n",
    "The most common data structures are lists and dictionnaries. Let's start with the simpler option: the list. \n",
    "\n",
    "**List:** To tell Python that something should be parsed as a list, we are using square braquets ```[]```. The values are seperated by commas.  "
   ]
  },
  {
   "cell_type": "code",
   "execution_count": 9,
   "metadata": {},
   "outputs": [],
   "source": [
    "# Create a list containing the first names of all participants of this class. \n",
    "\n",
    "classmates_list = ['Mathias', 'Stef', 'Tina', 'Crina', 'Erik', 'Sara', 'Pamela', 'Andy', 'Trond', 'Yousuf']"
   ]
  },
  {
   "cell_type": "code",
   "execution_count": 10,
   "metadata": {},
   "outputs": [
    {
     "data": {
      "text/plain": [
       "'Mathias, Stef, Tina, Crina, Erik, Sara, Pamela, Andy, Trond, Yousuf'"
      ]
     },
     "execution_count": 10,
     "metadata": {},
     "output_type": "execute_result"
    }
   ],
   "source": [
    "# You are not a computer and prefer a human readable list? Then you might join the values of the list. \n",
    "', '.join(classmates_list)"
   ]
  },
  {
   "cell_type": "code",
   "execution_count": 11,
   "metadata": {},
   "outputs": [
    {
     "data": {
      "text/plain": [
       "['Belgium', 'France', 'Germany', 'Netherlands']"
      ]
     },
     "execution_count": 11,
     "metadata": {},
     "output_type": "execute_result"
    }
   ],
   "source": [
    "# Get a computer readable list from a human readable string. \n",
    "countries = 'Belgium, France, Germany, Netherlands'\n",
    "countries.split(', ')"
   ]
  },
  {
   "cell_type": "code",
   "execution_count": 12,
   "metadata": {},
   "outputs": [
    {
     "data": {
      "text/plain": [
       "'Mathias'"
      ]
     },
     "execution_count": 12,
     "metadata": {},
     "output_type": "execute_result"
    }
   ],
   "source": [
    "# Let's access the first item of the list.\n",
    "classmates_list[0]"
   ]
  },
  {
   "cell_type": "code",
   "execution_count": 13,
   "metadata": {},
   "outputs": [
    {
     "data": {
      "text/plain": [
       "'Tina'"
      ]
     },
     "execution_count": 13,
     "metadata": {},
     "output_type": "execute_result"
    }
   ],
   "source": [
    "# Let's access the third item of the list.\n",
    "classmates_list[2]"
   ]
  },
  {
   "cell_type": "code",
   "execution_count": 14,
   "metadata": {},
   "outputs": [
    {
     "data": {
      "text/plain": [
       "'Yousuf'"
      ]
     },
     "execution_count": 14,
     "metadata": {},
     "output_type": "execute_result"
    }
   ],
   "source": [
    "# Let's access the last item of the list. \n",
    "classmates_list[-1]"
   ]
  },
  {
   "cell_type": "code",
   "execution_count": 15,
   "metadata": {},
   "outputs": [
    {
     "data": {
      "text/plain": [
       "['Crina', 'Erik', 'Sara', 'Pamela', 'Andy', 'Trond']"
      ]
     },
     "execution_count": 15,
     "metadata": {},
     "output_type": "execute_result"
    }
   ],
   "source": [
    "# Let's access the 4th to the last items of the list.  \n",
    "classmates_list[3:-1]"
   ]
  },
  {
   "cell_type": "code",
   "execution_count": 16,
   "metadata": {},
   "outputs": [
    {
     "data": {
      "text/plain": [
       "['Mathias',\n",
       " 'Stef',\n",
       " 'Tina',\n",
       " 'Crina',\n",
       " 'Erik',\n",
       " 'Sara',\n",
       " 'Pamela',\n",
       " 'Andy',\n",
       " 'Trond',\n",
       " 'Yousuf',\n",
       " 'Ico Gnito']"
      ]
     },
     "execution_count": 16,
     "metadata": {},
     "output_type": "execute_result"
    }
   ],
   "source": [
    "# Let's add an entry to our list. \n",
    "classmates_list.append('Ico Gnito')\n",
    "classmates_list"
   ]
  },
  {
   "cell_type": "code",
   "execution_count": 17,
   "metadata": {},
   "outputs": [
    {
     "data": {
      "text/plain": [
       "['Mathias',\n",
       " 'Stef',\n",
       " 'Tina',\n",
       " 'Crina',\n",
       " 'Erik',\n",
       " 'Sara',\n",
       " 'Pamela',\n",
       " 'Andy',\n",
       " 'Trond',\n",
       " 'Yousuf']"
      ]
     },
     "execution_count": 17,
     "metadata": {},
     "output_type": "execute_result"
    }
   ],
   "source": [
    "# Let's drop an entry from our list. \n",
    "classmates_list.remove('Ico Gnito')\n",
    "classmates_list"
   ]
  },
  {
   "cell_type": "markdown",
   "metadata": {},
   "source": [
    "**Dictionnaries:** The second very common data structure is the dictionnary. To tell Python that something should be parsed as a dictionnary, we are using curly braces ```{}```. The values are seperated by commas. "
   ]
  },
  {
   "cell_type": "code",
   "execution_count": 18,
   "metadata": {},
   "outputs": [],
   "source": [
    "# Create a dictionnary containing the first names of all participants together with the country they are living in.\n",
    "mathias = {'name': 'Mathias', 'country': 'CH'}"
   ]
  },
  {
   "cell_type": "code",
   "execution_count": 19,
   "metadata": {},
   "outputs": [
    {
     "data": {
      "text/plain": [
       "'CH'"
      ]
     },
     "execution_count": 19,
     "metadata": {},
     "output_type": "execute_result"
    }
   ],
   "source": [
    "# The teacher has a strange accent. Where is he coming from? Let's get the value for Mathias. \n",
    "mathias['country']"
   ]
  },
  {
   "cell_type": "code",
   "execution_count": 20,
   "metadata": {},
   "outputs": [
    {
     "data": {
      "text/plain": [
       "dict_keys(['name', 'country'])"
      ]
     },
     "execution_count": 20,
     "metadata": {},
     "output_type": "execute_result"
    }
   ],
   "source": [
    "# Get all the Keys of the dictionnary. \n",
    "mathias.keys()"
   ]
  },
  {
   "cell_type": "code",
   "execution_count": 21,
   "metadata": {},
   "outputs": [
    {
     "data": {
      "text/plain": [
       "dict_values(['Mathias', 'CH'])"
      ]
     },
     "execution_count": 21,
     "metadata": {},
     "output_type": "execute_result"
    }
   ],
   "source": [
    "# Get all the Values of the dictionnary. \n",
    "mathias.values()"
   ]
  },
  {
   "cell_type": "code",
   "execution_count": 22,
   "metadata": {},
   "outputs": [
    {
     "data": {
      "text/plain": [
       "{'country': 'CH', 'gender': 'male', 'name': 'Mathias'}"
      ]
     },
     "execution_count": 22,
     "metadata": {},
     "output_type": "execute_result"
    }
   ],
   "source": [
    "# Enhance your dictionnary.\n",
    "mathias['gender'] = 'male'\n",
    "mathias"
   ]
  },
  {
   "cell_type": "code",
   "execution_count": 23,
   "metadata": {},
   "outputs": [],
   "source": [
    "# What if Mathias would change his home country or even his gender? Then you would have to adapt your data. \n",
    "mathias['country'] = 'FR'"
   ]
  },
  {
   "cell_type": "code",
   "execution_count": 24,
   "metadata": {},
   "outputs": [
    {
     "name": "stdout",
     "output_type": "stream",
     "text": [
      "Mathias is a male living in FR.\n"
     ]
    }
   ],
   "source": [
    "# Print out the information about Mathias in a nice sentence. \n",
    "print('Mathias is a', mathias['gender'], 'living in', mathias['country'] + '.')"
   ]
  },
  {
   "cell_type": "code",
   "execution_count": 25,
   "metadata": {},
   "outputs": [],
   "source": [
    "# Make a second dictionnary just for you. \n"
   ]
  },
  {
   "cell_type": "markdown",
   "metadata": {},
   "source": [
    "### Functions and Methods"
   ]
  },
  {
   "cell_type": "code",
   "execution_count": 26,
   "metadata": {},
   "outputs": [
    {
     "data": {
      "text/plain": [
       "17"
      ]
     },
     "execution_count": 26,
     "metadata": {},
     "output_type": "execute_result"
    }
   ],
   "source": [
    "# Get the length of a string (Function).\n",
    "len('Python is better.')"
   ]
  },
  {
   "cell_type": "code",
   "execution_count": 27,
   "metadata": {},
   "outputs": [
    {
     "data": {
      "text/plain": [
       "'MECHELEN'"
      ]
     },
     "execution_count": 27,
     "metadata": {},
     "output_type": "execute_result"
    }
   ],
   "source": [
    "# You like it yelling? Make everything BIG. Capitalizing all letters of a word. (Method)\n",
    "'mechelen'.upper()"
   ]
  },
  {
   "cell_type": "code",
   "execution_count": 28,
   "metadata": {},
   "outputs": [
    {
     "data": {
      "text/plain": [
       "'mechelen'"
      ]
     },
     "execution_count": 28,
     "metadata": {},
     "output_type": "execute_result"
    }
   ],
   "source": [
    "# Quiet is nice. (Method)\n",
    "'Mechelen'.lower()"
   ]
  },
  {
   "cell_type": "code",
   "execution_count": 29,
   "metadata": {},
   "outputs": [
    {
     "data": {
      "text/plain": [
       "'mECHELEN'"
      ]
     },
     "execution_count": 29,
     "metadata": {},
     "output_type": "execute_result"
    }
   ],
   "source": [
    "# Turn it upside down. \n",
    "'Mechelen'.swapcase()"
   ]
  },
  {
   "cell_type": "code",
   "execution_count": 30,
   "metadata": {},
   "outputs": [
    {
     "data": {
      "text/plain": [
       "'saihtaM'"
      ]
     },
     "execution_count": 30,
     "metadata": {},
     "output_type": "execute_result"
    }
   ],
   "source": [
    "# Do you know the funny children's game: Reading your name backwards?\n",
    "''.join(reversed('Mathias'))"
   ]
  },
  {
   "cell_type": "code",
   "execution_count": 31,
   "metadata": {},
   "outputs": [
    {
     "data": {
      "text/plain": [
       "'Mojitos'"
      ]
     },
     "execution_count": 31,
     "metadata": {},
     "output_type": "execute_result"
    }
   ],
   "source": [
    "# Replace characters in a string. (Methode)\n",
    "'Mathias'.replace('a', 'o').replace('t', 'ji').replace('hi', 't')\n"
   ]
  },
  {
   "cell_type": "code",
   "execution_count": 32,
   "metadata": {},
   "outputs": [
    {
     "data": {
      "text/plain": [
       "27"
      ]
     },
     "execution_count": 32,
     "metadata": {},
     "output_type": "execute_result"
    }
   ],
   "source": [
    "# Round a float. \n",
    "round(27.35)"
   ]
  },
  {
   "cell_type": "code",
   "execution_count": 33,
   "metadata": {},
   "outputs": [
    {
     "data": {
      "text/plain": [
       "3"
      ]
     },
     "execution_count": 33,
     "metadata": {},
     "output_type": "execute_result"
    }
   ],
   "source": [
    "# Some more examples. Count the number of something in a string.\n",
    "'Mechelen'.count('e')"
   ]
  },
  {
   "cell_type": "code",
   "execution_count": 34,
   "metadata": {},
   "outputs": [
    {
     "data": {
      "text/plain": [
       "True"
      ]
     },
     "execution_count": 34,
     "metadata": {},
     "output_type": "execute_result"
    }
   ],
   "source": [
    "# Test if a string ends with something\n",
    "'Mechelen'.endswith('n')"
   ]
  },
  {
   "cell_type": "code",
   "execution_count": 35,
   "metadata": {},
   "outputs": [
    {
     "data": {
      "text/plain": [
       "['Andy',\n",
       " 'Crina',\n",
       " 'Erik',\n",
       " 'Mathias',\n",
       " 'Pamela',\n",
       " 'Sara',\n",
       " 'Stef',\n",
       " 'Tina',\n",
       " 'Trond',\n",
       " 'Yousuf']"
      ]
     },
     "execution_count": 35,
     "metadata": {},
     "output_type": "execute_result"
    }
   ],
   "source": [
    "# Sort a list. (Method)\n",
    "sorted(classmates_list)"
   ]
  },
  {
   "cell_type": "code",
   "execution_count": 36,
   "metadata": {},
   "outputs": [
    {
     "data": {
      "text/plain": [
       "4"
      ]
     },
     "execution_count": 36,
     "metadata": {},
     "output_type": "execute_result"
    }
   ],
   "source": [
    "# Largest in a list (Function).\n",
    "max([1, 2, 3, 4])"
   ]
  },
  {
   "cell_type": "code",
   "execution_count": 37,
   "metadata": {},
   "outputs": [
    {
     "data": {
      "text/plain": [
       "1"
      ]
     },
     "execution_count": 37,
     "metadata": {},
     "output_type": "execute_result"
    }
   ],
   "source": [
    "# Smallest in a list (Function).\n",
    "min([1, 2, 3, 4])"
   ]
  },
  {
   "cell_type": "code",
   "execution_count": 38,
   "metadata": {},
   "outputs": [
    {
     "data": {
      "text/plain": [
       "10"
      ]
     },
     "execution_count": 38,
     "metadata": {},
     "output_type": "execute_result"
    }
   ],
   "source": [
    "# Add elements in a list together (Function).\n",
    "sum([1, 2, 3, 4])"
   ]
  },
  {
   "cell_type": "code",
   "execution_count": 39,
   "metadata": {},
   "outputs": [
    {
     "data": {
      "text/plain": [
       "2"
      ]
     },
     "execution_count": 39,
     "metadata": {},
     "output_type": "execute_result"
    }
   ],
   "source": [
    "# Count the number of something in a list (Method).\n",
    "[1, 4, 3, 2, 1].count(1)"
   ]
  },
  {
   "cell_type": "markdown",
   "metadata": {},
   "source": [
    "### Conditions"
   ]
  },
  {
   "cell_type": "code",
   "execution_count": 40,
   "metadata": {},
   "outputs": [
    {
     "data": {
      "text/plain": [
       "False"
      ]
     },
     "execution_count": 40,
     "metadata": {},
     "output_type": "execute_result"
    }
   ],
   "source": [
    "# Check if something is true. \n",
    "'xil' in 'Bruxelles' "
   ]
  },
  {
   "cell_type": "code",
   "execution_count": 41,
   "metadata": {},
   "outputs": [
    {
     "name": "stdout",
     "output_type": "stream",
     "text": [
      "You're a local. Could you give me some tips about bars in Mechelen?\n"
     ]
    }
   ],
   "source": [
    "# Check if something is true. Do something, if it is true.\n",
    "hometown = 'Mechelen'\n",
    "\n",
    "if 'Mechelen' in hometown:\n",
    "    print('You\\'re a local. Could you give me some tips about bars in Mechelen?')"
   ]
  },
  {
   "cell_type": "code",
   "execution_count": 42,
   "metadata": {},
   "outputs": [
    {
     "data": {
      "text/plain": [
       "True"
      ]
     },
     "execution_count": 42,
     "metadata": {},
     "output_type": "execute_result"
    }
   ],
   "source": [
    "# Do some math. \n",
    "15 == 5 * 3"
   ]
  },
  {
   "cell_type": "code",
   "execution_count": 43,
   "metadata": {},
   "outputs": [
    {
     "name": "stdout",
     "output_type": "stream",
     "text": [
      "German is shorter.\n"
     ]
    }
   ],
   "source": [
    "# Check if French or German has the longer words. (Multiple conditions.)\n",
    "if len('Bruxelles') < len('Brüssel'):\n",
    "    print('French is shorter.')\n",
    "elif len('Bruxelles') > len('Brüssel'):\n",
    "    print('German is shorter.')\n",
    "elif len('Bruxelles') == len('Brüssel'):\n",
    "    print('It\\'s always the same.')"
   ]
  },
  {
   "cell_type": "markdown",
   "metadata": {},
   "source": [
    "## Happy Looping\n",
    "Programmers are lazy. They don't want to do things again and again. So they invented loops. After the boring basics, we'll now get to the fun stuff. Things that make programmers happy -- and journalists, too. For Loops are used to loop through a list of things. It basically says, \"for each item in my list, do something to each item\".\n",
    "\n",
    "\n",
    "Looping problems usually involve lists, minimums, maximums, counting, and/or summation. A few examples might be:\n",
    "\n",
    "- Given a list of people and salaries, who makes the most money?\n",
    "- Given a list of restaurant reviews, what percentage are above 4 stars?\n",
    "- Given a list of movie ratings, which got the worst score?\n",
    "- Given a list of budget items, what is the total budget for cleaning supplies?\n",
    "\n",
    "NOTE: To be perfectly honest, there are a lot of other ways of doing these problems besides for loops, and most all of them are actually better! This is a good way to think through it for beginning Python students, though.\n",
    "\n",
    "You have three steps to any sort of problem that involves loops or lists.\n",
    "\n",
    "1. The Initial Condition: You need to start somewhere. For example: If I’m counting dogs, how many dogs do I know about before I even start counting? Zero, probably.\n",
    "2. The Conditional: Every time you go through the loop, you probably test something to see if you should make a change. If I’m counting pit bulls, it might be something like is this a pit bull? If it is, let’s do something.\n",
    "3. The Change: If the conditional is true, I need to do something. Maybe it’s since this was a pit bull, let’s incrementing the pit_bulls counter."
   ]
  },
  {
   "cell_type": "markdown",
   "metadata": {},
   "source": [
    "### Type 1: Counting\n",
    "\n",
    "Definition: Given a list of numbers/objects/etc, how many are there?\n",
    "\n",
    "- The Initial Condition: You need a counter. The counter starts at zero, because you haven’t counted anything yet.\n",
    "- The Conditional: NONE, because we count all of them\n",
    "- The Change: Add one to your counter.\n",
    "\n",
    "#### In words\n",
    "\n",
    "- Data set: We have a list of dogs, how many dogs are there?\n",
    "- Initial condition: We haven’t counted any pit bulls yet, so we’ve only counted 0.\n",
    "- The loop: We walk down the line of dogs, stopping at each one. Each time we visit a dog, we make a little counting mark on our page (the change).\n",
    "- The summary: When we’re done, we look at how many marks we’ve made on our page."
   ]
  },
  {
   "cell_type": "code",
   "execution_count": 44,
   "metadata": {},
   "outputs": [
    {
     "name": "stdout",
     "output_type": "stream",
     "text": [
      "7\n"
     ]
    }
   ],
   "source": [
    "# This is our data set. How many numbers are there?\n",
    "\n",
    "numbers = [5, 20, 377, 123, 1, 384, 0]\n",
    "\n",
    "# At the beginning we are not aware of any numbers.\n",
    "numbers_count = 0\n",
    "\n",
    "# Now, we are going through each of the items of our list.\n",
    "for number in numbers:\n",
    "    # THE CONDITIONAL: We don't have one, since we count all of them.\n",
    "    # THE CHANGE: Let's increment our counter.\n",
    "    numbers_count = numbers_count + 1\n",
    "\n",
    "# THE SUMMARY: print it out\n",
    "print(numbers_count)"
   ]
  },
  {
   "cell_type": "markdown",
   "metadata": {},
   "source": [
    "Note: Python forces you to use a lot of white spaces. It's different to other programming languages. There are less brackets. But there are a lot of paragraphs and spaces."
   ]
  },
  {
   "cell_type": "code",
   "execution_count": 45,
   "metadata": {},
   "outputs": [
    {
     "name": "stdout",
     "output_type": "stream",
     "text": [
      "1\n",
      "2\n",
      "3\n",
      "4\n",
      "5\n",
      "6\n"
     ]
    }
   ],
   "source": [
    "# In short. Build a loop that counts.\n",
    "for i in range(1,7):\n",
    "    print(i)"
   ]
  },
  {
   "cell_type": "code",
   "execution_count": 46,
   "metadata": {},
   "outputs": [
    {
     "name": "stdout",
     "output_type": "stream",
     "text": [
      "Go away, greedy tomcat!\n",
      "Go away, greedy tomcat!\n",
      "Here's your food. Enjoy, my sweet little kitty.\n",
      "Go away, greedy tomcat!\n",
      "Go away, greedy tomcat!\n"
     ]
    }
   ],
   "source": [
    "cats = ['yourcat', 'hiscat', 'mycat', 'hercat', 'theircat']\n",
    "\n",
    "for cat in cats: \n",
    "    if cat == 'mycat':\n",
    "        print('Here\\'s your food. Enjoy, my sweet little kitty.')\n",
    "    else:\n",
    "        print('Go away, greedy tomcat!')"
   ]
  },
  {
   "cell_type": "code",
   "execution_count": 47,
   "metadata": {},
   "outputs": [
    {
     "name": "stdout",
     "output_type": "stream",
     "text": [
      "3 of our numbers are bigger than 100.\n"
     ]
    }
   ],
   "source": [
    "# How many of the numbers in our list are bigger than 100?\n",
    "\n",
    "numbers = [5, 20, 377, 123, 1, 384, 0]\n",
    "\n",
    "# At the beginning we are not aware of any numbers.\n",
    "numbers_count = 0\n",
    "\n",
    "# Now, we are going through each of the items of our list.\n",
    "for number in numbers:\n",
    "    # THE CONDITIONAL: We don't have one, since we count all of them.\n",
    "    if number > 100:\n",
    "        # THE CHANGE: Let's increment our counter.\n",
    "        numbers_count = numbers_count + 1\n",
    "\n",
    "# THE SUMMARY: print it out\n",
    "print(numbers_count, 'of our numbers are bigger than 100.')"
   ]
  },
  {
   "cell_type": "code",
   "execution_count": 48,
   "metadata": {},
   "outputs": [
    {
     "name": "stdout",
     "output_type": "stream",
     "text": [
      "The sum of the numbers in our list is 910.\n"
     ]
    }
   ],
   "source": [
    "# Whats the sum of all the numbers in our list? \n",
    "\n",
    "numbers = [5, 20, 377, 123, 1, 384, 0]\n",
    "number_sum = 0\n",
    "\n",
    "for number in numbers:\n",
    "    number_sum = number_sum + number\n",
    "\n",
    "print('The sum of the numbers in our list is', str(number_sum) + '.')"
   ]
  },
  {
   "cell_type": "code",
   "execution_count": 49,
   "metadata": {},
   "outputs": [
    {
     "name": "stdout",
     "output_type": "stream",
     "text": [
      "The sum of the bigger numbers in our list is 884.\n"
     ]
    }
   ],
   "source": [
    "# Whats the sum of all numbers in our list that are bigger than 100? \n",
    "\n",
    "numbers = [5, 20, 377, 123, 1, 384, 0]\n",
    "\n",
    "number_sum = 0\n",
    "\n",
    "for number in numbers:\n",
    "    if number > 100:\n",
    "        number_sum = number_sum + number\n",
    "\n",
    "print('The sum of the bigger numbers in our list is', str(number_sum) + '.')"
   ]
  },
  {
   "cell_type": "code",
   "execution_count": 50,
   "metadata": {},
   "outputs": [
    {
     "name": "stdout",
     "output_type": "stream",
     "text": [
      "384 is the largest number in our list.\n"
     ]
    }
   ],
   "source": [
    "# Which is the largest number? \n",
    "\n",
    "numbers = [5, 20, 377, 123, 1, 384, 0]\n",
    "largest = numbers[0]\n",
    "\n",
    "for number in numbers:\n",
    "    if number > largest:\n",
    "        largest = number\n",
    "\n",
    "print(largest, 'is the largest number in our list.')"
   ]
  },
  {
   "cell_type": "markdown",
   "metadata": {},
   "source": [
    "### Excercise 2\n",
    "To say \"Hello World\" is fair enough. At least for programmers. But we are journalists. We are really good in communication. And we want to great everyone in Person. But we are lazy, though -- like programmers. "
   ]
  },
  {
   "cell_type": "code",
   "execution_count": 51,
   "metadata": {},
   "outputs": [
    {
     "name": "stdout",
     "output_type": "stream",
     "text": [
      "Hi Mathias. What's up?\n",
      "Hi Stef. What's up?\n",
      "Hi Tina. What's up?\n",
      "Hi Crina. What's up?\n",
      "Hi Erik. What's up?\n",
      "Hi Sara. What's up?\n",
      "Hi Pamela. What's up?\n",
      "Hi Andy. What's up?\n",
      "Hi Trond. What's up?\n",
      "Hi Yousuf. What's up?\n"
     ]
    }
   ],
   "source": [
    "# Write a loop to great everyone in the class with the own name. \n",
    "for mate in classmates_list:\n",
    "    print('Hi', mate + '. What\\'s up?')"
   ]
  },
  {
   "cell_type": "markdown",
   "metadata": {},
   "source": [
    "Hold on! To be even more polite, you might want to greet the people in alpahbetical order. Use the command \"sorted()\" and pass it your list before printing the greetings. "
   ]
  },
  {
   "cell_type": "code",
   "execution_count": 52,
   "metadata": {},
   "outputs": [
    {
     "name": "stdout",
     "output_type": "stream",
     "text": [
      "Hi Andy. What's up?\n",
      "Hi Crina. What's up?\n",
      "Hi Erik. What's up?\n",
      "Hi Mathias. What's up?\n",
      "Hi Pamela. What's up?\n",
      "Hi Sara. What's up?\n",
      "Hi Stef. What's up?\n",
      "Hi Tina. What's up?\n",
      "Hi Trond. What's up?\n",
      "Hi Yousuf. What's up?\n"
     ]
    }
   ],
   "source": [
    "for mate in sorted(classmates_list):\n",
    "    print('Hi', mate + '. What\\'s up?')"
   ]
  },
  {
   "cell_type": "markdown",
   "metadata": {},
   "source": [
    "Make it even more personal. Since you didn't already greet Crina and Mathias, you just want to greet everyone besides the two. I know: I could remove the two from the list. But that would get you in trouble later. So do it with a condition."
   ]
  },
  {
   "cell_type": "code",
   "execution_count": 53,
   "metadata": {},
   "outputs": [
    {
     "name": "stdout",
     "output_type": "stream",
     "text": [
      "Hi Andy. What's up?\n",
      "Hi Crina. What's up?\n",
      "Hi Erik. What's up?\n",
      "Hi Mathias. What's up?\n",
      "Hi Pamela. What's up?\n",
      "Hi Sara. What's up?\n",
      "Hi Stef. What's up?\n",
      "Hi Tina. What's up?\n",
      "Hi Trond. What's up?\n",
      "Hi Yousuf. What's up?\n"
     ]
    }
   ],
   "source": [
    "for mate in sorted(classmates_list):\n",
    "    if mate != 'Mathias Born' and mate != 'Crina Boros':\n",
    "        print('Hi', mate + '. What\\'s up?')"
   ]
  },
  {
   "cell_type": "markdown",
   "metadata": {},
   "source": [
    "### While-Loops\n",
    "Sometimes you don't know at the beginning, how long you need to do your work all over again. You have to do it until a specific condition is reached. You can do that with while-loops. But watch out: Its really easy to create infinite loops. (Try to abort with Ctrl-C or wait until the kernel of your jupyter notebook dies and restart it.)"
   ]
  },
  {
   "cell_type": "code",
   "execution_count": 54,
   "metadata": {},
   "outputs": [
    {
     "name": "stdout",
     "output_type": "stream",
     "text": [
      "0\n",
      "1\n",
      "2\n",
      "3\n",
      "4\n",
      "5\n",
      "6\n",
      "7\n",
      "8\n",
      "9\n",
      "10\n",
      "11\n",
      "12\n",
      "13\n",
      "14\n",
      "15\n"
     ]
    }
   ],
   "source": [
    "# Write a while-loop\n",
    "n = 0\n",
    "\n",
    "while n <= 15:\n",
    "    print(n)\n",
    "    n = n + 1"
   ]
  },
  {
   "cell_type": "code",
   "execution_count": 55,
   "metadata": {},
   "outputs": [
    {
     "name": "stdout",
     "output_type": "stream",
     "text": [
      "This script goes on until it hits 5.\n",
      "Our number is 7. Let's take another round.\n",
      "Our number is 7. Let's take another round.\n",
      "Our number is 3. Let's take another round.\n",
      "Our number is 1. Let's take another round.\n",
      "Our number is 9. Let's take another round.\n",
      "Our number is 1. Let's take another round.\n",
      "We hit 5. Time to cancel the script.\n"
     ]
    }
   ],
   "source": [
    "# Well, we could have done this with a counter, too. Let's try with a random number. \n",
    "from random import randint\n",
    "\n",
    "breakint = 5\n",
    "print('This script goes on until it hits', str(breakint) + '.')\n",
    "\n",
    "n = randint(0,9)\n",
    "\n",
    "while n != breakint:\n",
    "    print('Our number is', str(n) + '. Let\\'s take another round.')\n",
    "    n = randint(0,9)\n",
    "    \n",
    "print('We hit', str(n) + '. Time to cancel the script.')"
   ]
  },
  {
   "cell_type": "markdown",
   "metadata": {},
   "source": [
    "### Excercise 3"
   ]
  },
  {
   "cell_type": "code",
   "execution_count": 57,
   "metadata": {},
   "outputs": [
    {
     "name": "stdout",
     "output_type": "stream",
     "text": [
      "What's your name? Ico Gnito\n",
      "In what year were you born? 1978\n",
      "Ico Gnito was born in 1978.\n",
      "Ico Gnito is approximately 40 years old.\n"
     ]
    }
   ],
   "source": [
    "# How old are you? Write a program that calculates the age of the user. HINT: Be aware of the data types. \n",
    "\n",
    "# Ask the user for the name. Save it to a variable.\n",
    "username = input('What\\'s your name? ')\n",
    "\n",
    "# Ask the user for the year of birth. Save it to a variable. \n",
    "yearzero = input('In what year were you born? ')\n",
    "yearzero = int(yearzero)\n",
    "\n",
    "# Print out the user's name and year of birth. \n",
    "print(username, 'was born in', str(yearzero) + '.')\n",
    "\n",
    "# Calculate the (approximate) age and print it out.\n",
    "print(username, 'is approximately', 2018 - yearzero, 'years old.')"
   ]
  },
  {
   "cell_type": "markdown",
   "metadata": {},
   "source": [
    "Notebook by [Mathias Born](mailto:mathias.born@tamedia.ch) with material from [Jonathan Soma](http://jonathansoma.com/lede/foundations/)."
   ]
  },
  {
   "cell_type": "code",
   "execution_count": null,
   "metadata": {},
   "outputs": [],
   "source": []
  }
 ],
 "metadata": {
  "kernelspec": {
   "display_name": "Python 3",
   "language": "python",
   "name": "python3"
  },
  "language_info": {
   "codemirror_mode": {
    "name": "ipython",
    "version": 3
   },
   "file_extension": ".py",
   "mimetype": "text/x-python",
   "name": "python",
   "nbconvert_exporter": "python",
   "pygments_lexer": "ipython3",
   "version": "3.6.5"
  }
 },
 "nbformat": 4,
 "nbformat_minor": 2
}
