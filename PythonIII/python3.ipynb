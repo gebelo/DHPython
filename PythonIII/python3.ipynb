{
 "cells": [
  {
   "cell_type": "markdown",
   "metadata": {},
   "source": [
    "# Python III\n",
    "Workshop at EIJC18/Dataharvest in Mechelen (2018-05-25)"
   ]
  },
  {
   "cell_type": "markdown",
   "metadata": {},
   "source": [
    "## Basics\n",
    "Parts of this chapter might be a repetition. But that's life. And we are moving on pretty fast. "
   ]
  },
  {
   "cell_type": "markdown",
   "metadata": {},
   "source": [
    "### Excercise 1\n",
    "At the beginning, we are doing what programmers always do: We are writing a \"Hello World\" program. You will need two commands: ```print()``` and in the second try also ```input()```."
   ]
  },
  {
   "cell_type": "code",
   "execution_count": 71,
   "metadata": {},
   "outputs": [],
   "source": [
    "# Please write a program that prints out \"Hello World\". \n"
   ]
  },
  {
   "cell_type": "code",
   "execution_count": 72,
   "metadata": {},
   "outputs": [],
   "source": [
    "# Make your amazing program even more amazing: Don't greet the whole world, but the specific user. \n"
   ]
  },
  {
   "cell_type": "markdown",
   "metadata": {},
   "source": [
    "### Data types\n",
    "In the beginning we need to fiddle around with some nasty stuff. At least: It can get pretty nasty, if you mess with these things. Let's fist talk about data types. Normally, you are just using three data types. \n",
    "- str – strings of characters\n",
    "- int – integers\n",
    "- float – floats\n",
    "\n",
    "There are a couple more options. But for now, we are just ignoring them. "
   ]
  },
  {
   "cell_type": "code",
   "execution_count": 73,
   "metadata": {},
   "outputs": [],
   "source": [
    "# Let's check the datatype of the variable that we have set before. \n"
   ]
  },
  {
   "cell_type": "code",
   "execution_count": 74,
   "metadata": {},
   "outputs": [],
   "source": [
    "# Define a variable containing a integer. Check its type. \n"
   ]
  },
  {
   "cell_type": "code",
   "execution_count": 75,
   "metadata": {},
   "outputs": [],
   "source": [
    "# Define a variable containing a float. Check its type. \n"
   ]
  },
  {
   "cell_type": "code",
   "execution_count": 76,
   "metadata": {},
   "outputs": [],
   "source": [
    "# Try to convert the username to a float. \n"
   ]
  },
  {
   "cell_type": "code",
   "execution_count": 77,
   "metadata": {},
   "outputs": [],
   "source": [
    "# Convert the float variable to an integer. \n"
   ]
  },
  {
   "cell_type": "code",
   "execution_count": 78,
   "metadata": {},
   "outputs": [],
   "source": [
    "# Ups, we expected something different. It might be safer to round up oder down.\n"
   ]
  },
  {
   "cell_type": "markdown",
   "metadata": {},
   "source": [
    "### Data Structures\n",
    "The most common data structures are lists and dictionnaries. Let's start with the simpler option: the list. \n",
    "\n",
    "**List:** To tell Python that something should be parsed as a list, we are using square braquets ```[]```. The values are seperated by commas.  "
   ]
  },
  {
   "cell_type": "code",
   "execution_count": 79,
   "metadata": {},
   "outputs": [],
   "source": [
    "# Create a list containing the first names of all participants of this class. \n",
    "\n",
    "classmates_list = ['Mathias', 'Stef', 'Tina', 'Crina', 'Erik', 'Sara', 'Pamela', 'Andy', 'Trond', 'Yousuf']"
   ]
  },
  {
   "cell_type": "code",
   "execution_count": 80,
   "metadata": {},
   "outputs": [],
   "source": [
    "# You are not a computer and prefer a human readable list? Then you might join the values of the list. \n"
   ]
  },
  {
   "cell_type": "code",
   "execution_count": 81,
   "metadata": {},
   "outputs": [],
   "source": [
    "# Get a computer readable list from a human readable string. \n",
    "countries = 'Belgium, France, Germany, Netherlands'\n"
   ]
  },
  {
   "cell_type": "code",
   "execution_count": 82,
   "metadata": {},
   "outputs": [],
   "source": [
    "# Let's access the first item of the list.\n"
   ]
  },
  {
   "cell_type": "code",
   "execution_count": 83,
   "metadata": {},
   "outputs": [],
   "source": [
    "# Let's access the third item of the list.\n"
   ]
  },
  {
   "cell_type": "code",
   "execution_count": 84,
   "metadata": {},
   "outputs": [],
   "source": [
    "# Let's access the last item of the list. \n"
   ]
  },
  {
   "cell_type": "code",
   "execution_count": 85,
   "metadata": {},
   "outputs": [],
   "source": [
    "# Let's access the 4th to the last items of the list.  \n"
   ]
  },
  {
   "cell_type": "code",
   "execution_count": 86,
   "metadata": {},
   "outputs": [],
   "source": [
    "# Let's add an entry to our list. \n"
   ]
  },
  {
   "cell_type": "code",
   "execution_count": 87,
   "metadata": {},
   "outputs": [],
   "source": [
    "# Let's drop an entry from our list. \n"
   ]
  },
  {
   "cell_type": "markdown",
   "metadata": {},
   "source": [
    "**Dictionnaries:** The second very common data structure is the dictionnary. To tell Python that something should be parsed as a dictionnary, we are using curly braces ```{}```. The values are seperated by commas. "
   ]
  },
  {
   "cell_type": "code",
   "execution_count": 88,
   "metadata": {},
   "outputs": [],
   "source": [
    "# Create a dictionnary containing the first names of all participants together with the country they are living in.\n"
   ]
  },
  {
   "cell_type": "code",
   "execution_count": 89,
   "metadata": {},
   "outputs": [],
   "source": [
    "# The teacher has a strange accent. Where is he coming from? Let's get the value for Mathias. \n"
   ]
  },
  {
   "cell_type": "code",
   "execution_count": 90,
   "metadata": {},
   "outputs": [],
   "source": [
    "# Get all the Keys of the dictionnary. \n"
   ]
  },
  {
   "cell_type": "code",
   "execution_count": 91,
   "metadata": {},
   "outputs": [],
   "source": [
    "# Get all the Values of the dictionnary. \n"
   ]
  },
  {
   "cell_type": "code",
   "execution_count": 92,
   "metadata": {},
   "outputs": [],
   "source": [
    "# Enhance your dictionnary.\n"
   ]
  },
  {
   "cell_type": "code",
   "execution_count": 93,
   "metadata": {},
   "outputs": [],
   "source": [
    "# What if Mathias would change his home country or even his gender? Then you would have to adapt your data. \n"
   ]
  },
  {
   "cell_type": "code",
   "execution_count": 94,
   "metadata": {},
   "outputs": [],
   "source": [
    "# Print out the information about Mathias in a nice sentence. \n"
   ]
  },
  {
   "cell_type": "code",
   "execution_count": 95,
   "metadata": {},
   "outputs": [],
   "source": [
    "# Make a second dictionnary just for you. \n"
   ]
  },
  {
   "cell_type": "markdown",
   "metadata": {},
   "source": [
    "### Functions and Methods"
   ]
  },
  {
   "cell_type": "code",
   "execution_count": 96,
   "metadata": {},
   "outputs": [],
   "source": [
    "# Get the length of a string (Function).\n"
   ]
  },
  {
   "cell_type": "code",
   "execution_count": 97,
   "metadata": {},
   "outputs": [],
   "source": [
    "# You like it yelling? Make everything BIG. Capitalizing all letters of a word. (Method)\n"
   ]
  },
  {
   "cell_type": "code",
   "execution_count": 98,
   "metadata": {},
   "outputs": [],
   "source": [
    "# Quiet is nice. (Method)\n"
   ]
  },
  {
   "cell_type": "code",
   "execution_count": 99,
   "metadata": {},
   "outputs": [],
   "source": [
    "# Turn it upside down. \n"
   ]
  },
  {
   "cell_type": "code",
   "execution_count": 100,
   "metadata": {},
   "outputs": [],
   "source": [
    "# Do you know the funny children's game: Reading your name backwards?\n"
   ]
  },
  {
   "cell_type": "code",
   "execution_count": 101,
   "metadata": {},
   "outputs": [],
   "source": [
    "# Replace characters in a string. (Methode)\n"
   ]
  },
  {
   "cell_type": "code",
   "execution_count": 102,
   "metadata": {},
   "outputs": [],
   "source": [
    "# Round a float. \n"
   ]
  },
  {
   "cell_type": "code",
   "execution_count": 103,
   "metadata": {},
   "outputs": [],
   "source": [
    "# Some more examples. Count the number of something in a string.\n"
   ]
  },
  {
   "cell_type": "code",
   "execution_count": 104,
   "metadata": {},
   "outputs": [],
   "source": [
    "# Test if a string ends with something\n"
   ]
  },
  {
   "cell_type": "code",
   "execution_count": 105,
   "metadata": {},
   "outputs": [],
   "source": [
    "# Sort a list. (Method)\n"
   ]
  },
  {
   "cell_type": "code",
   "execution_count": 106,
   "metadata": {},
   "outputs": [],
   "source": [
    "# Largest in a list (Function).\n"
   ]
  },
  {
   "cell_type": "code",
   "execution_count": 107,
   "metadata": {},
   "outputs": [],
   "source": [
    "# Smallest in a list (Function).\n"
   ]
  },
  {
   "cell_type": "code",
   "execution_count": 108,
   "metadata": {},
   "outputs": [],
   "source": [
    "# Add elements in a list together (Function).\n"
   ]
  },
  {
   "cell_type": "code",
   "execution_count": 109,
   "metadata": {},
   "outputs": [],
   "source": [
    "# Count the number of something in a list (Method).\n"
   ]
  },
  {
   "cell_type": "markdown",
   "metadata": {},
   "source": [
    "### Conditions"
   ]
  },
  {
   "cell_type": "code",
   "execution_count": 110,
   "metadata": {},
   "outputs": [],
   "source": [
    "# Check if something is true. \n"
   ]
  },
  {
   "cell_type": "code",
   "execution_count": 111,
   "metadata": {},
   "outputs": [],
   "source": [
    "# Check if something is true. Do something, if it is true.\n"
   ]
  },
  {
   "cell_type": "code",
   "execution_count": 112,
   "metadata": {},
   "outputs": [],
   "source": [
    "# Do some math. \n"
   ]
  },
  {
   "cell_type": "code",
   "execution_count": 113,
   "metadata": {},
   "outputs": [],
   "source": [
    "# Check if French or German has the longer words. (Multiple conditions.)\n"
   ]
  },
  {
   "cell_type": "markdown",
   "metadata": {},
   "source": [
    "## Happy Looping\n",
    "Programmers are lazy. They don't want to do things again and again. So they invented loops. After the boring basics, we'll now get to the fun stuff. Things that make programmers happy -- and journalists, too. For Loops are used to loop through a list of things. It basically says, \"for each item in my list, do something to each item\".\n",
    "\n",
    "\n",
    "Looping problems usually involve lists, minimums, maximums, counting, and/or summation. A few examples might be:\n",
    "\n",
    "- Given a list of people and salaries, who makes the most money?\n",
    "- Given a list of restaurant reviews, what percentage are above 4 stars?\n",
    "- Given a list of movie ratings, which got the worst score?\n",
    "- Given a list of budget items, what is the total budget for cleaning supplies?\n",
    "\n",
    "NOTE: To be perfectly honest, there are a lot of other ways of doing these problems besides for loops, and most all of them are actually better! This is a good way to think through it for beginning Python students, though.\n",
    "\n",
    "You have three steps to any sort of problem that involves loops or lists.\n",
    "\n",
    "1. The Initial Condition: You need to start somewhere. For example: If I’m counting dogs, how many dogs do I know about before I even start counting? Zero, probably.\n",
    "2. The Conditional: Every time you go through the loop, you probably test something to see if you should make a change. If I’m counting pit bulls, it might be something like is this a pit bull? If it is, let’s do something.\n",
    "3. The Change: If the conditional is true, I need to do something. Maybe it’s since this was a pit bull, let’s incrementing the pit_bulls counter."
   ]
  },
  {
   "cell_type": "markdown",
   "metadata": {},
   "source": [
    "### Type 1: Counting\n",
    "\n",
    "Definition: Given a list of numbers/objects/etc, how many are there?\n",
    "\n",
    "- The Initial Condition: You need a counter. The counter starts at zero, because you haven’t counted anything yet.\n",
    "- The Conditional: NONE, because we count all of them\n",
    "- The Change: Add one to your counter.\n",
    "\n",
    "#### In words\n",
    "\n",
    "- Data set: We have a list of dogs, how many dogs are there?\n",
    "- Initial condition: We haven’t counted any pit bulls yet, so we’ve only counted 0.\n",
    "- The loop: We walk down the line of dogs, stopping at each one. Each time we visit a dog, we make a little counting mark on our page (the change).\n",
    "- The summary: When we’re done, we look at how many marks we’ve made on our page."
   ]
  },
  {
   "cell_type": "code",
   "execution_count": 114,
   "metadata": {},
   "outputs": [],
   "source": [
    "# This is our data set. How many numbers are there?\n",
    "\n",
    "numbers = [5, 20, 377, 123, 1, 384, 0]\n",
    "\n",
    "# At the beginning we are not aware of any numbers.\n",
    "\n",
    "# Now, we are going through each of the items of our list.\n",
    "    # THE CONDITIONAL: We don't have one, since we count all of them.\n",
    "    # THE CHANGE: Let's increment our counter.\n",
    "\n",
    "# THE SUMMARY: print it out\n"
   ]
  },
  {
   "cell_type": "markdown",
   "metadata": {},
   "source": [
    "Note: Python forces you to use a lot of white spaces. It's different to other programming languages. There are less brackets. But there are a lot of paragraphs and spaces."
   ]
  },
  {
   "cell_type": "code",
   "execution_count": 115,
   "metadata": {},
   "outputs": [],
   "source": [
    "# In short. Build a loop that counts.\n"
   ]
  },
  {
   "cell_type": "code",
   "execution_count": 116,
   "metadata": {},
   "outputs": [],
   "source": [
    "# Look at every single cat that enters your door. Give food to your cat. Get rid of the others. \n",
    "\n",
    "cats = ['yourcat', 'hiscat', 'mycat', 'hercat', 'theircat']\n",
    "\n"
   ]
  },
  {
   "cell_type": "code",
   "execution_count": 117,
   "metadata": {},
   "outputs": [],
   "source": [
    "# How many of the numbers in our list are bigger than 100?\n",
    "\n",
    "numbers = [5, 20, 377, 123, 1, 384, 0]\n",
    "\n",
    "# At the beginning we are not aware of any numbers.\n",
    "\n",
    "# Now, we are going through each of the items of our list.\n",
    "    # THE CONDITIONAL: We don't have one, since we count all of them.\n",
    "        # THE CHANGE: Let's increment our counter.\n",
    "\n",
    "# THE SUMMARY: print it out\n"
   ]
  },
  {
   "cell_type": "code",
   "execution_count": 118,
   "metadata": {},
   "outputs": [],
   "source": [
    "# Whats the sum of all the numbers in our list? \n",
    "\n",
    "numbers = [5, 20, 377, 123, 1, 384, 0]\n"
   ]
  },
  {
   "cell_type": "code",
   "execution_count": 119,
   "metadata": {},
   "outputs": [],
   "source": [
    "# Whats the sum of all numbers in our list that are bigger than 100? \n",
    "\n",
    "numbers = [5, 20, 377, 123, 1, 384, 0]\n"
   ]
  },
  {
   "cell_type": "code",
   "execution_count": 120,
   "metadata": {},
   "outputs": [],
   "source": [
    "# Which is the largest number? \n",
    "\n",
    "numbers = [5, 20, 377, 123, 1, 384, 0]\n"
   ]
  },
  {
   "cell_type": "markdown",
   "metadata": {},
   "source": [
    "### Excercise 2\n",
    "To say \"Hello World\" is fair enough. At least for programmers. But we are journalists. We are really good in communication. And we want to great everyone in Person. But we are lazy, though -- like programmers. "
   ]
  },
  {
   "cell_type": "code",
   "execution_count": 121,
   "metadata": {},
   "outputs": [],
   "source": [
    "# Write a loop to great everyone in your class with the own name. \n"
   ]
  },
  {
   "cell_type": "markdown",
   "metadata": {},
   "source": [
    "Hold on! To be even more polite, you might want to greet the people in alpahbetical order. Use the command \"sorted()\" and pass it your list before printing the greetings. "
   ]
  },
  {
   "cell_type": "code",
   "execution_count": null,
   "metadata": {},
   "outputs": [],
   "source": []
  },
  {
   "cell_type": "markdown",
   "metadata": {},
   "source": [
    "Make it even more personal. Since you didn't already greet Crina and Mathias, you just want to greet everyone besides the two. I know: I could remove the two from the list. But that would get you in trouble later. So do it with a condition."
   ]
  },
  {
   "cell_type": "code",
   "execution_count": null,
   "metadata": {},
   "outputs": [],
   "source": []
  },
  {
   "cell_type": "markdown",
   "metadata": {},
   "source": [
    "### While-Loops\n",
    "Sometimes you don't know at the beginning, how long you need to do your work all over again. You have to do it until a specific condition is reached. You can do that with while-loops. But watch out: Its really easy to create infinite loops. (Try to abort with Ctrl-C or wait until the kernel of your jupyter notebook dies and restart it.)"
   ]
  },
  {
   "cell_type": "code",
   "execution_count": 122,
   "metadata": {},
   "outputs": [],
   "source": [
    "# Write a while-loop\n"
   ]
  },
  {
   "cell_type": "code",
   "execution_count": 123,
   "metadata": {},
   "outputs": [],
   "source": [
    "# Well, we could have done this with a counter, too. Let's try with a random number. \n",
    "from random import randint\n"
   ]
  },
  {
   "cell_type": "markdown",
   "metadata": {},
   "source": [
    "### Excercise 3"
   ]
  },
  {
   "cell_type": "code",
   "execution_count": 124,
   "metadata": {},
   "outputs": [],
   "source": [
    "# How old are you? Write a program that calculates the age of the user. HINT: Be aware of the data types. \n",
    "\n",
    "# Ask the user for the name. Save it to a variable.\n",
    "\n",
    "# Ask the user for the year of birth. Save it to a variable. \n",
    "\n",
    "\n",
    "# Print out the user's name and year of birth. \n",
    "\n",
    "# Calculate the (approximate) age and print it out.\n"
   ]
  },
  {
   "cell_type": "markdown",
   "metadata": {},
   "source": [
    "Notebook by [Mathias Born](mailto:mathias.born@tamedia.ch) with material from [Jonathan Soma](http://jonathansoma.com/lede/foundations/)."
   ]
  },
  {
   "cell_type": "code",
   "execution_count": null,
   "metadata": {},
   "outputs": [],
   "source": []
  }
 ],
 "metadata": {
  "kernelspec": {
   "display_name": "Python 3",
   "language": "python",
   "name": "python3"
  },
  "language_info": {
   "codemirror_mode": {
    "name": "ipython",
    "version": 3
   },
   "file_extension": ".py",
   "mimetype": "text/x-python",
   "name": "python",
   "nbconvert_exporter": "python",
   "pygments_lexer": "ipython3",
   "version": "3.6.5"
  }
 },
 "nbformat": 4,
 "nbformat_minor": 2
}
